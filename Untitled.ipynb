{
 "cells": [
  {
   "cell_type": "code",
   "execution_count": 61,
   "metadata": {},
   "outputs": [],
   "source": [
    "import os\n",
    "from tensorflow.keras.models import load_model\n",
    "from tensorflow.keras.preprocessing import image\n",
    "import numpy as np\n",
    "from pathlib import Path\n",
    "from ensure import ensure_annotations"
   ]
  },
  {
   "cell_type": "code",
   "execution_count": 62,
   "id": "5ea50716",
   "metadata": {},
   "outputs": [
    {
     "data": {
      "text/plain": [
       "'c:\\\\ML Projects\\\\Potato-Leaf-Desease-End2End'"
      ]
     },
     "execution_count": 62,
     "metadata": {},
     "output_type": "execute_result"
    }
   ],
   "source": [
    "%pwd"
   ]
  },
  {
   "cell_type": "code",
   "execution_count": 70,
   "id": "19f26029",
   "metadata": {},
   "outputs": [],
   "source": [
    "model=load_model(os.path.join('artifacts','prepare_base_model','base_model_updated.h5'))\n",
    "\n",
    "# model = load_model(os.path.join(\"artifacts\",\"training\", \"model.h5\"))"
   ]
  },
  {
   "cell_type": "code",
   "execution_count": 77,
   "id": "8516789b",
   "metadata": {},
   "outputs": [],
   "source": [
    "early_blight=os.path.join('test_photo/early_blight_leaf.jpg')\n",
    "healthy=os.path.join('test_photo/healthy_leaf.jpg')\n",
    "late_blight=os.path.join('test_photo/late_blight.jpg')"
   ]
  },
  {
   "cell_type": "code",
   "execution_count": 78,
   "id": "ccdfe4dc",
   "metadata": {},
   "outputs": [
    {
     "data": {
      "text/plain": [
       "'test_photo/healthy_leaf.jpg'"
      ]
     },
     "execution_count": 78,
     "metadata": {},
     "output_type": "execute_result"
    }
   ],
   "source": [
    "healthy"
   ]
  },
  {
   "cell_type": "code",
   "execution_count": 79,
   "id": "2ebb6c0f",
   "metadata": {},
   "outputs": [],
   "source": [
    "# @ensure_annotations\n",
    "def pred(img :Path) ->list:\n",
    "    late_blight=image.load_img(img,target_size=(224,224))\n",
    "    img_array= image.img_to_array(late_blight)\n",
    "    image_dims=np.expand_dims(img_array, axis= 0)\n",
    "    result=np.argmax(model.predict(image_dims), axis=1)\n",
    "    print(result)"
   ]
  },
  {
   "cell_type": "code",
   "execution_count": 82,
   "id": "61b9ef19",
   "metadata": {},
   "outputs": [
    {
     "name": "stdout",
     "output_type": "stream",
     "text": [
      "1/1 [==============================] - 1s 1s/step\n",
      "[0]\n"
     ]
    }
   ],
   "source": [
    "pred(healthy)"
   ]
  },
  {
   "cell_type": "code",
   "execution_count": null,
   "id": "2f127969",
   "metadata": {},
   "outputs": [],
   "source": []
  }
 ],
 "metadata": {
  "kernelspec": {
   "display_name": "leaf_desease_detection",
   "language": "python",
   "name": "python3"
  },
  "language_info": {
   "codemirror_mode": {
    "name": "ipython",
    "version": 3
   },
   "file_extension": ".py",
   "mimetype": "text/x-python",
   "name": "python",
   "nbconvert_exporter": "python",
   "pygments_lexer": "ipython3",
   "version": "3.11.0"
  }
 },
 "nbformat": 4,
 "nbformat_minor": 5
}
